{
 "cells": [
  {
   "cell_type": "markdown",
   "metadata": {},
   "source": [
    "# Softmax exercise\n",
    "\n",
    "*Complete and hand in this completed worksheet (including its outputs and any supporting code outside of the worksheet) with your assignment submission. For more details see the [assignments page](http://vision.stanford.edu/teaching/cs231n/assignments.html) on the course website.*\n",
    "\n",
    "This exercise is analogous to the SVM exercise. You will:\n",
    "\n",
    "- implement a fully-vectorized **loss function** for the Softmax classifier\n",
    "- implement the fully-vectorized expression for its **analytic gradient**\n",
    "- **check your implementation** with numerical gradient\n",
    "- use a validation set to **tune the learning rate and regularization** strength\n",
    "- **optimize** the loss function with **SGD**\n",
    "- **visualize** the final learned weights\n"
   ]
  },
  {
   "cell_type": "code",
   "execution_count": 1,
   "metadata": {
    "collapsed": false
   },
   "outputs": [],
   "source": [
    "import random\n",
    "import numpy as np\n",
    "from cs231n.data_utils import load_CIFAR10\n",
    "import matplotlib.pyplot as plt\n",
    "%matplotlib inline\n",
    "plt.rcParams['figure.figsize'] = (10.0, 8.0) # set default size of plots\n",
    "plt.rcParams['image.interpolation'] = 'nearest'\n",
    "plt.rcParams['image.cmap'] = 'gray'\n",
    "\n",
    "# for auto-reloading extenrnal modules\n",
    "# see http://stackoverflow.com/questions/1907993/autoreload-of-modules-in-ipython\n",
    "%load_ext autoreload\n",
    "%autoreload 2"
   ]
  },
  {
   "cell_type": "code",
   "execution_count": 2,
   "metadata": {
    "collapsed": false
   },
   "outputs": [
    {
     "name": "stdout",
     "output_type": "stream",
     "text": [
      "Train data shape:  (49000, 3073)\n",
      "Train labels shape:  (49000,)\n",
      "Validation data shape:  (1000, 3073)\n",
      "Validation labels shape:  (1000,)\n",
      "Test data shape:  (1000, 3073)\n",
      "Test labels shape:  (1000,)\n",
      "dev data shape:  (500, 3073)\n",
      "dev labels shape:  (500,)\n"
     ]
    }
   ],
   "source": [
    "def get_CIFAR10_data(num_training=49000, num_validation=1000, num_test=1000, num_dev=500):\n",
    "  \"\"\"\n",
    "  Load the CIFAR-10 dataset from disk and perform preprocessing to prepare\n",
    "  it for the linear classifier. These are the same steps as we used for the\n",
    "  SVM, but condensed to a single function.  \n",
    "  \"\"\"\n",
    "  # Load the raw CIFAR-10 data\n",
    "  cifar10_dir = 'cs231n/datasets/cifar-10-batches-py'\n",
    "  X_train, y_train, X_test, y_test = load_CIFAR10(cifar10_dir)\n",
    "  \n",
    "  # subsample the data\n",
    "  mask = range(num_training, num_training + num_validation)\n",
    "  X_val = X_train[mask]\n",
    "  y_val = y_train[mask]\n",
    "  mask = range(num_training)\n",
    "  X_train = X_train[mask]\n",
    "  y_train = y_train[mask]\n",
    "  mask = range(num_test)\n",
    "  X_test = X_test[mask]\n",
    "  y_test = y_test[mask]\n",
    "  mask = np.random.choice(num_training, num_dev, replace=False)\n",
    "  X_dev = X_train[mask]\n",
    "  y_dev = y_train[mask]\n",
    "  \n",
    "  # Preprocessing: reshape the image data into rows\n",
    "  X_train = np.reshape(X_train, (X_train.shape[0], -1))\n",
    "  X_val = np.reshape(X_val, (X_val.shape[0], -1))\n",
    "  X_test = np.reshape(X_test, (X_test.shape[0], -1))\n",
    "  X_dev = np.reshape(X_dev, (X_dev.shape[0], -1))\n",
    "  \n",
    "  # Normalize the data: subtract the mean image\n",
    "  mean_image = np.mean(X_train, axis = 0)\n",
    "  X_train -= mean_image\n",
    "  X_val -= mean_image\n",
    "  X_test -= mean_image\n",
    "  X_dev -= mean_image\n",
    "  \n",
    "  # add bias dimension and transform into columns\n",
    "  X_train = np.hstack([X_train, np.ones((X_train.shape[0], 1))])\n",
    "  X_val = np.hstack([X_val, np.ones((X_val.shape[0], 1))])\n",
    "  X_test = np.hstack([X_test, np.ones((X_test.shape[0], 1))])\n",
    "  X_dev = np.hstack([X_dev, np.ones((X_dev.shape[0], 1))])\n",
    "  \n",
    "  return X_train, y_train, X_val, y_val, X_test, y_test, X_dev, y_dev\n",
    "\n",
    "\n",
    "# Invoke the above function to get our data.\n",
    "X_train, y_train, X_val, y_val, X_test, y_test, X_dev, y_dev = get_CIFAR10_data()\n",
    "print 'Train data shape: ', X_train.shape\n",
    "print 'Train labels shape: ', y_train.shape\n",
    "print 'Validation data shape: ', X_val.shape\n",
    "print 'Validation labels shape: ', y_val.shape\n",
    "print 'Test data shape: ', X_test.shape\n",
    "print 'Test labels shape: ', y_test.shape\n",
    "print 'dev data shape: ', X_dev.shape\n",
    "print 'dev labels shape: ', y_dev.shape"
   ]
  },
  {
   "cell_type": "markdown",
   "metadata": {},
   "source": [
    "## Softmax Classifier\n",
    "\n",
    "Your code for this section will all be written inside **cs231n/classifiers/softmax.py**. \n"
   ]
  },
  {
   "cell_type": "code",
   "execution_count": 3,
   "metadata": {
    "collapsed": false
   },
   "outputs": [
    {
     "name": "stdout",
     "output_type": "stream",
     "text": [
      "loss: 2.302442\n",
      "sanity check: 2.302585\n"
     ]
    }
   ],
   "source": [
    "# First implement the naive softmax loss function with nested loops.\n",
    "# Open the file cs231n/classifiers/softmax.py and implement the\n",
    "# softmax_loss_naive function.\n",
    "\n",
    "from cs231n.classifiers.softmax import softmax_loss_naive\n",
    "import time\n",
    "\n",
    "# Generate a random softmax weight matrix and use it to compute the loss.\n",
    "W = np.random.randn(3073, 10) * 0.0001\n",
    "loss, grad = softmax_loss_naive(W, X_dev, y_dev, 0.0)\n",
    "\n",
    "# As a rough sanity check, our loss should be something close to -log(0.1).\n",
    "print 'loss: %f' % loss\n",
    "print 'sanity check: %f' % (-np.log(0.1))"
   ]
  },
  {
   "cell_type": "markdown",
   "metadata": {},
   "source": [
    "## Inline Question 1:\n",
    "Why do we expect our loss to be close to -log(0.1)? Explain briefly.**\n",
    "\n",
    "**Your answer:** *Fill this in*\n"
   ]
  },
  {
   "cell_type": "code",
   "execution_count": 4,
   "metadata": {
    "collapsed": false
   },
   "outputs": [
    {
     "name": "stdout",
     "output_type": "stream",
     "text": [
      "numerical: -2.836390 analytic: -2.836390, relative error: 8.368432e-09\n",
      "numerical: 2.197950 analytic: 2.197950, relative error: 7.188814e-10\n",
      "numerical: -1.105663 analytic: -1.105663, relative error: 6.576928e-09\n",
      "numerical: 1.209258 analytic: 1.209258, relative error: 3.567807e-08\n",
      "numerical: -4.165467 analytic: -4.165467, relative error: 1.473537e-08\n",
      "numerical: -2.299327 analytic: -2.299327, relative error: 8.025168e-09\n",
      "numerical: 0.016698 analytic: 0.016698, relative error: 3.247102e-06\n",
      "numerical: -2.501419 analytic: -2.501419, relative error: 1.435860e-08\n",
      "numerical: 0.775887 analytic: 0.775887, relative error: 3.711033e-08\n",
      "numerical: 3.665416 analytic: 3.665416, relative error: 9.759091e-09\n",
      "numerical: 1.612171 analytic: 1.612171, relative error: 7.961947e-09\n",
      "numerical: -0.086823 analytic: -0.086823, relative error: 9.400077e-08\n",
      "numerical: 2.405236 analytic: 2.405236, relative error: 6.707583e-09\n",
      "numerical: 1.468142 analytic: 1.468142, relative error: 1.979466e-09\n",
      "numerical: 0.626066 analytic: 0.626066, relative error: 1.807146e-08\n",
      "numerical: -0.605408 analytic: -0.605408, relative error: 1.509131e-08\n",
      "numerical: -3.714609 analytic: -3.714609, relative error: 1.517498e-08\n",
      "numerical: -0.958532 analytic: -0.958532, relative error: 2.578131e-08\n",
      "numerical: -0.080325 analytic: -0.080325, relative error: 1.789964e-07\n",
      "numerical: 1.280278 analytic: 1.280278, relative error: 3.614684e-09\n"
     ]
    }
   ],
   "source": [
    "# Complete the implementation of softmax_loss_naive and implement a (naive)\n",
    "# version of the gradient that uses nested loops.\n",
    "loss, grad = softmax_loss_naive(W, X_dev, y_dev, 0.0)\n",
    "\n",
    "# As we did for the SVM, use numeric gradient checking as a debugging tool.\n",
    "# The numeric gradient should be close to the analytic gradient.\n",
    "from cs231n.gradient_check import grad_check_sparse\n",
    "f = lambda w: softmax_loss_naive(w, X_dev, y_dev, 0.0)[0]\n",
    "grad_numerical = grad_check_sparse(f, W, grad, 10)\n",
    "\n",
    "# similar to SVM case, do another gradient check with regularization\n",
    "loss, grad = softmax_loss_naive(W, X_dev, y_dev, 1e2)\n",
    "f = lambda w: softmax_loss_naive(w, X_dev, y_dev, 1e2)[0]\n",
    "grad_numerical = grad_check_sparse(f, W, grad, 10)"
   ]
  },
  {
   "cell_type": "code",
   "execution_count": 11,
   "metadata": {
    "collapsed": false
   },
   "outputs": [
    {
     "name": "stdout",
     "output_type": "stream",
     "text": [
      "naive loss: 2.302442e+00 computed in 0.150736s\n",
      "vectorized loss: 2.302442e+00 computed in 0.005300s\n",
      "Loss difference: 0.000000\n",
      "Gradient difference: 0.000000\n"
     ]
    }
   ],
   "source": [
    "# Now that we have a naive implementation of the softmax loss function and its gradient,\n",
    "# implement a vectorized version in softmax_loss_vectorized.\n",
    "# The two versions should compute the same results, but the vectorized version should be\n",
    "# much faster.\n",
    "tic = time.time()\n",
    "loss_naive, grad_naive = softmax_loss_naive(W, X_dev, y_dev, 0.00001)\n",
    "toc = time.time()\n",
    "print 'naive loss: %e computed in %fs' % (loss_naive, toc - tic)\n",
    "\n",
    "from cs231n.classifiers.softmax import softmax_loss_vectorized\n",
    "tic = time.time()\n",
    "loss_vectorized, grad_vectorized = softmax_loss_vectorized(W, X_dev, y_dev, 0.00001)\n",
    "toc = time.time()\n",
    "print 'vectorized loss: %e computed in %fs' % (loss_vectorized, toc - tic)\n",
    "\n",
    "# As we did for the SVM, we use the Frobenius norm to compare the two versions\n",
    "# of the gradient.\n",
    "grad_difference = np.linalg.norm(grad_naive - grad_vectorized, ord='fro')\n",
    "print 'Loss difference: %f' % np.abs(loss_naive - loss_vectorized)\n",
    "print 'Gradient difference: %f' % grad_difference"
   ]
  },
  {
   "cell_type": "code",
   "execution_count": 15,
   "metadata": {
    "collapsed": false
   },
   "outputs": [
    {
     "name": "stdout",
     "output_type": "stream",
     "text": [
      "iteration 0 / 1000: loss 8.192864\n",
      "iteration 100 / 1000: loss 5.729958\n",
      "iteration 200 / 1000: loss 5.272997\n",
      "iteration 300 / 1000: loss 4.836072\n",
      "iteration 400 / 1000: loss 4.524925\n",
      "iteration 500 / 1000: loss 4.478453\n",
      "iteration 600 / 1000: loss 4.553400\n",
      "iteration 700 / 1000: loss 4.399788\n",
      "iteration 800 / 1000: loss 4.135200\n",
      "iteration 900 / 1000: loss 4.282805\n",
      "iteration 0 / 1000: loss 152.113217\n",
      "iteration 100 / 1000: loss 124.880448\n",
      "iteration 200 / 1000: loss 102.475880\n",
      "iteration 300 / 1000: loss 83.993791\n",
      "iteration 400 / 1000: loss 69.238418\n",
      "iteration 500 / 1000: loss 56.929826\n",
      "iteration 600 / 1000: loss 46.859545\n",
      "iteration 700 / 1000: loss 38.749572\n",
      "iteration 800 / 1000: loss 31.932344\n",
      "iteration 900 / 1000: loss 26.550585\n",
      "iteration 0 / 1000: loss 2.256343\n",
      "iteration 100 / 1000: loss 2.151475\n",
      "iteration 200 / 1000: loss 2.190608\n",
      "iteration 300 / 1000: loss 2.056053\n",
      "iteration 400 / 1000: loss 2.139900\n",
      "iteration 500 / 1000: loss 2.014447\n",
      "iteration 600 / 1000: loss 2.082065\n",
      "iteration 700 / 1000: loss 1.948178\n",
      "iteration 800 / 1000: loss 2.083497\n",
      "iteration 900 / 1000: loss 2.047585\n",
      "iteration 0 / 1000: loss 20.581494\n",
      "iteration 100 / 1000: loss 11.911689\n",
      "iteration 200 / 1000: loss 7.144192\n",
      "iteration 300 / 1000: loss 4.657391\n",
      "iteration 400 / 1000: loss 3.371189\n",
      "iteration 500 / 1000: loss 2.739477\n",
      "iteration 600 / 1000: loss 2.324962\n",
      "iteration 700 / 1000: loss 2.122082\n",
      "iteration 800 / 1000: loss 2.096635\n",
      "iteration 900 / 1000: loss 1.982190\n",
      "iteration 0 / 1000: loss 1.811791\n",
      "iteration 100 / 1000: loss 1.794996\n",
      "iteration 200 / 1000: loss 1.833021\n",
      "iteration 300 / 1000: loss 1.807587\n",
      "iteration 400 / 1000: loss 1.776652\n",
      "iteration 500 / 1000: loss 1.692469\n",
      "iteration 600 / 1000: loss 1.808648\n",
      "iteration 700 / 1000: loss 1.701292\n",
      "iteration 800 / 1000: loss 1.873183\n",
      "iteration 900 / 1000: loss 1.611779\n",
      "iteration 0 / 1000: loss 2.559439\n",
      "iteration 100 / 1000: loss 2.076287\n",
      "iteration 200 / 1000: loss 1.990108\n",
      "iteration 300 / 1000: loss 1.982276\n",
      "iteration 400 / 1000: loss 1.912359\n",
      "iteration 500 / 1000: loss 2.021801\n",
      "iteration 600 / 1000: loss 2.058997\n",
      "iteration 700 / 1000: loss 1.970793\n",
      "iteration 800 / 1000: loss 2.026420\n",
      "iteration 900 / 1000: loss 1.876927\n",
      "lr 1.000000e-07 reg 1.000000e+02 train accuracy: 0.231306 val accuracy: 0.258000\n",
      "lr 1.000000e-07 reg 1.000000e+04 train accuracy: 0.307102 val accuracy: 0.315000\n",
      "lr 3.162278e-07 reg 1.000000e+02 train accuracy: 0.371980 val accuracy: 0.366000\n",
      "lr 3.162278e-07 reg 1.000000e+04 train accuracy: 0.371796 val accuracy: 0.375000\n",
      "lr 1.000000e-06 reg 1.000000e+02 train accuracy: 0.411776 val accuracy: 0.399000\n",
      "lr 1.000000e-06 reg 1.000000e+04 train accuracy: 0.365673 val accuracy: 0.394000\n",
      "best validation accuracy achieved during cross-validation: 0.399000\n"
     ]
    }
   ],
   "source": [
    "# Use the validation set to tune hyperparameters (regularization strength and\n",
    "# learning rate). You should experiment with different ranges for the learning\n",
    "# rates and regularization strengths; if you are careful you should be able to\n",
    "# get a classification accuracy of over 0.35 on the validation set.\n",
    "from cs231n.classifiers import Softmax\n",
    "results = {}\n",
    "best_val = -1\n",
    "best_softmax = None\n",
    "learning_rates = [1e-7, 5e-7] # when learning_rates in 5e-7 these is numeric issue .\n",
    "regularization_strengths = [5e4, 1e8]\n",
    "learning_rates = np.logspace(-7, -6, 3) \n",
    "regularization_strengths = np.logspace(2, 4, 2)\n",
    "################################################################################\n",
    "# TODO:                                                                        #\n",
    "# Use the validation set to set the learning rate and regularization strength. #\n",
    "# This should be identical to the validation that you did for the SVM; save    #\n",
    "# the best trained softmax classifer in best_softmax.                          #\n",
    "################################################################################\n",
    "Softmax=Softmax()\n",
    "for lr in learning_rates:\n",
    "    for rs in regularization_strengths:\n",
    "        Softmax.train(X_train, y_train, learning_rate=lr , reg=rs,\n",
    "                      num_iters=1000, verbose=True)\n",
    "        y_train_pred = Softmax.predict(X_train)\n",
    "        y_val_pred = Softmax.predict(X_val)\n",
    "        train_accu = np.mean(y_train_pred == y_train)\n",
    "        val_accu = np.mean(y_val_pred == y_val)\n",
    "        \n",
    "        results[(lr, rs)] = (train_accu,val_accu)\n",
    "        \n",
    "        if val_accu > best_val:\n",
    "            best_val = val_accu\n",
    "            best_softmax = Softmax\n",
    "            \n",
    "################################################################################\n",
    "#                              END OF YOUR CODE                                #\n",
    "################################################################################\n",
    "    \n",
    "# Print out results.\n",
    "for lr, reg in sorted(results):\n",
    "    train_accuracy, val_accuracy = results[(lr, reg)]\n",
    "    print 'lr %e reg %e train accuracy: %f val accuracy: %f' % (\n",
    "                lr, reg, train_accuracy, val_accuracy)\n",
    "    \n",
    "print 'best validation accuracy achieved during cross-validation: %f' % best_val"
   ]
  },
  {
   "cell_type": "code",
   "execution_count": 16,
   "metadata": {
    "collapsed": false
   },
   "outputs": [
    {
     "name": "stdout",
     "output_type": "stream",
     "text": [
      "softmax on raw pixels final test set accuracy: 0.368000\n"
     ]
    }
   ],
   "source": [
    "# evaluate on test set\n",
    "# Evaluate the best softmax on test set\n",
    "y_test_pred = best_softmax.predict(X_test)\n",
    "test_accuracy = np.mean(y_test == y_test_pred)\n",
    "print 'softmax on raw pixels final test set accuracy: %f' % (test_accuracy, )"
   ]
  },
  {
   "cell_type": "code",
   "execution_count": 17,
   "metadata": {
    "collapsed": false
   },
   "outputs": [
    {
     "data": {
      "image/png": "[encoded data removed]",
      "text/plain": [
       "<matplotlib.figure.Figure at 0x7f42aaaa5190>"
      ]
     },
     "metadata": {},
     "output_type": "display_data"
    }
   ],
   "source": [
    "# Visualize the learned weights for each class\n",
    "w = best_softmax.W[:-1,:] # strip out the bias\n",
    "w = w.reshape(32, 32, 3, 10)\n",
    "\n",
    "w_min, w_max = np.min(w), np.max(w)\n",
    "\n",
    "classes = ['plane', 'car', 'bird', 'cat', 'deer', 'dog', 'frog', 'horse', 'ship', 'truck']\n",
    "for i in xrange(10):\n",
    "  plt.subplot(2, 5, i + 1)\n",
    "  \n",
    "  # Rescale the weights to be between 0 and 255\n",
    "  wimg = 255.0 * (w[:, :, :, i].squeeze() - w_min) / (w_max - w_min)\n",
    "  plt.imshow(wimg.astype('uint8'))\n",
    "  plt.axis('off')\n",
    "  plt.title(classes[i])"
   ]
  },
  {
   "cell_type": "code",
   "execution_count": null,
   "metadata": {
    "collapsed": true
   },
   "outputs": [],
   "source": []
  }
 ],
 "metadata": {
  "kernelspec": {
   "display_name": "Python 2",
   "language": "python",
   "name": "python2"
  },
  "language_info": {
   "codemirror_mode": {
    "name": "ipython",
    "version": 2
   },
   "file_extension": ".py",
   "mimetype": "text/x-python",
   "name": "python",
   "nbconvert_exporter": "python",
   "pygments_lexer": "ipython2",
   "version": "2.7.11"
  }
 },
 "nbformat": 4,
 "nbformat_minor": 0
}
